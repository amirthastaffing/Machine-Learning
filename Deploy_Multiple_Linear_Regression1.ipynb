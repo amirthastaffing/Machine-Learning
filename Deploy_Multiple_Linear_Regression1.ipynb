{
 "cells": [
  {
   "cell_type": "code",
   "execution_count": 1,
   "id": "9a7027c9-f0c4-4a9b-8510-919ea546c69a",
   "metadata": {},
   "outputs": [],
   "source": [
    "import pickle\n",
    "load_model= pickle.load(open('Model_created_for_Multiple_regression.sav','rb'))"
   ]
  },
  {
   "cell_type": "code",
   "execution_count": 2,
   "id": "583e8bd6-7e7a-4788-9920-47b0999702d0",
   "metadata": {},
   "outputs": [
    {
     "name": "stdin",
     "output_type": "stream",
     "text": [
      "R&D Spend :  3000\n",
      "Administration 3000\n",
      "Marketing Spend 4000\n",
      "State_Florida- Enter 0 or 1 : 0\n",
      "State_New York- Enter 0 or 1 : 1\n"
     ]
    }
   ],
   "source": [
    "input_RD = float(input(\"R&D Spend : \"))\n",
    "input_admin=float(input(\"Administration\"))\n",
    "input_market=float(input(\"Marketing Spend\"))\n",
    "input_st_florida=float(input(\"State_Florida- Enter 0 or 1 :\"))\n",
    "input_st_new_york=float(input(\"State_New York- Enter 0 or 1 :\"))"
   ]
  },
  {
   "cell_type": "code",
   "execution_count": 9,
   "id": "cd1802eb-f01d-43c6-a3a6-488ac00868eb",
   "metadata": {},
   "outputs": [
    {
     "name": "stderr",
     "output_type": "stream",
     "text": [
      "C:\\anaconda3\\Lib\\site-packages\\sklearn\\base.py:493: UserWarning: X does not have valid feature names, but LinearRegression was fitted with feature names\n",
      "  warnings.warn(\n"
     ]
    }
   ],
   "source": [
    "result=load_model.predict([[input_RD,input_admin,input_market,input_st_florida,input_st_new_york]])"
   ]
  },
  {
   "cell_type": "code",
   "execution_count": 15,
   "id": "46997aea-b52f-4e69-bde9-0394551928c8",
   "metadata": {},
   "outputs": [
    {
     "name": "stdout",
     "output_type": "stream",
     "text": [
      "profit for given inputs : [[45295.84108453]]\n"
     ]
    }
   ],
   "source": [
    "print(\"profit for given inputs :\",result)"
   ]
  }
 ],
 "metadata": {
  "kernelspec": {
   "display_name": "Python [conda env:base] *",
   "language": "python",
   "name": "conda-base-py"
  },
  "language_info": {
   "codemirror_mode": {
    "name": "ipython",
    "version": 3
   },
   "file_extension": ".py",
   "mimetype": "text/x-python",
   "name": "python",
   "nbconvert_exporter": "python",
   "pygments_lexer": "ipython3",
   "version": "3.12.7"
  }
 },
 "nbformat": 4,
 "nbformat_minor": 5
}
